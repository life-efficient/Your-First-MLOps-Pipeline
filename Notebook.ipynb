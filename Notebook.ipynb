{
 "cells": [
  {
   "attachments": {},
   "cell_type": "markdown",
   "metadata": {},
   "source": [
    "# Your First MLOps Pipeline\n",
    "\n",
    "## Aim\n",
    "\n",
    "> Build several common components found in MLOps pipelines to illustrate the essential concepts of MLOps.\n",
    "\n",
    "This is by no means a comprehensive overview of all facets of MLOps, but it aims to illustrate a few of the important concepts.\n",
    "\n",
    "## Outline\n",
    "- What is MLOps?\n",
    "- Turning the ML model training process into a pipeline\n",
    "- Artefact and metadata tracking\n",
    "  - Tensorboard demo\n",
    "- Serving\n",
    "  - APIs\n",
    "- Drift\n",
    "  - Data drift\n",
    "  - Concept drift\n",
    "- Monitoring\n",
    "  - Visualising data drift\n",
    "  - Logging user requests to visualise\n",
    "- Alerting\n",
    "  - Pagerduty example\n",
    "- Retraining\n",
    "  - Collecting more data to train on\n",
    "  - Cron\n",
    "  - Automatic retraining\n",
    "\n",
    "## What is MLOps?\n",
    "\n",
    "MLOps is shorthand for Machine Learning Operations. MLOps is to AI engineering what devops is to software engineering.\n",
    "\n",
    "MLOps empowers organisations not just to deploy once, but to deploy over and over again quickly and efficiently by reducing the overhead and increasing automation that usually goes into maintaining machine learning systems in production.\n",
    "\n",
    "## Why do we need MLOps?\n",
    "\n",
    "- Serve more models\n",
    "- Serve new versions of the same model\n",
    "\n",
    "Why do we need new models?\n",
    "- Unexpected performance differences between testing and production\n",
    "- Evolving environments\n"
   ]
  },
  {
   "attachments": {},
   "cell_type": "markdown",
   "metadata": {},
   "source": [
    "### About the dataset\n",
    "\n",
    "In this example, we're working with data from an online retailer, like Amazon, who make timely offers to their customers after every purchase. We want to build a machine learning model to determine the likelihood of a user claiming the offer so that we can confidently offer it to people who will take it. We don't want to offer it to everyone because it costs us to make the offer, which reduces our margins.\n",
    "\n",
    "- Features:\n",
    "    - `product_rating`: the difference between the average rating for that product and the user's rating\n",
    "    - `delivery_duration`: the difference between the claimed delivery time and the actual delivery time\n",
    "- Label:\n",
    "    - `used_offer`: Whether the user claimed an offer shared with them after their successful delivery\n",
    "\n",
    "However, we know that the distribution of data might change over time:\n",
    "- Buyers may become more or less sensitive to product quality as supply changes\n",
    "- Buyers may become more or less sensitive to delivery duration\n",
    "- Buyers may change whether they claim the offer or not due to changes in the economy\n"
   ]
  },
  {
   "cell_type": "code",
   "execution_count": 74,
   "metadata": {},
   "outputs": [
    {
     "data": {
      "image/png": "[encoded data removed]",
      "text/plain": [
       "<Figure size 432x288 with 1 Axes>"
      ]
     },
     "metadata": {
      "needs_background": "light"
     },
     "output_type": "display_data"
    }
   ],
   "source": [
    "from matplotlib import pyplot as plt\n",
    "from torch.utils.tensorboard import SummaryWriter\n",
    "\n",
    "def sample_and_save_data():\n",
    "    dataset = DriftingDataset(std=1)\n",
    "\n",
    "    save = []\n",
    "    datapoints = []\n",
    "    for idx, example in enumerate(dataset):\n",
    "        # turn example of (list, float) into a flat list\n",
    "        save.append({\"product_rating\": example[0][0], \"delivery_duration\": example[0][1], \"used_offer\": example[1]})\n",
    "\n",
    "        datapoints.append(example[0][0])\n",
    "        if idx == 10000:\n",
    "            break\n",
    "\n",
    "    df = pd.DataFrame(save[:1000])\n",
    "\n",
    "\n",
    "    # df.to_csv('data.csv', index=False)\n",
    "\n",
    "    return datapoints\n",
    "\n",
    "def plot_drifting_data(datapoints):   \n",
    "    plt.plot(datapoints)\n",
    "    plt.show()\n",
    "    # save  the list called save as a csv file\n",
    "\n",
    "\n",
    "\n",
    "data = sample_and_save_data()\n",
    "plot_drifting_data(data)\n"
   ]
  },
  {
   "cell_type": "code",
   "execution_count": 75,
   "metadata": {},
   "outputs": [
    {
     "name": "stdout",
     "output_type": "stream",
     "text": [
      "<class 'pandas.core.frame.DataFrame'>\n",
      "RangeIndex: 1000 entries, 0 to 999\n",
      "Data columns (total 3 columns):\n",
      " #   Column             Non-Null Count  Dtype  \n",
      "---  ------             --------------  -----  \n",
      " 0   product_rating     1000 non-null   float64\n",
      " 1   delivery_duration  1000 non-null   float64\n",
      " 2   used_offer         1000 non-null   int64  \n",
      "dtypes: float64(2), int64(1)\n",
      "memory usage: 23.6 KB\n",
      "None\n",
      "   product_rating  delivery_duration\n",
      "0        1.241197          -1.057440\n",
      "1        0.782535           1.420452\n",
      "2       -1.812189           1.679274\n",
      "3        0.110688          -0.278303\n",
      "4        0.172920          -1.148439\n",
      "0    1\n",
      "1    0\n",
      "2    0\n",
      "3    1\n",
      "4    1\n",
      "Name: used_offer, dtype: int64\n"
     ]
    }
   ],
   "source": [
    "import pandas as pd\n",
    "\n",
    "\n",
    "def load_data():\n",
    "    \"\"\"Loads in the data, could be implemented differently to load in data from any source\"\"\"\n",
    "\n",
    "    data = pd.read_csv(\n",
    "        'data.csv')\n",
    "    print(data.info())\n",
    "\n",
    "    # ^^^ could read from database, filesystem storage, or other source in another application\n",
    "    features = data.drop(columns=[\"used_offer\"])\n",
    "    labels = data[\"used_offer\"]\n",
    "\n",
    "    return features, labels\n",
    "\n",
    "\n",
    "features, labels = load_data()\n",
    "\n",
    "print(features.head())\n",
    "print(labels.head())\n"
   ]
  },
  {
   "attachments": {},
   "cell_type": "markdown",
   "metadata": {},
   "source": [
    "## What goes into training a machine learning model?\n",
    "\n",
    "You could fill a library with everything that I could mention here, but to summarise it, here are the key steps that go into training a ML model:\n",
    "- Data preparation\n",
    "- Model training\n",
    "- Hyperparameter tuning\n",
    "- Validation set evaluation\n",
    "- Test set evaluation\n",
    "\n",
    "The cells below illustrate what a simple version of this might look like."
   ]
  },
  {
   "cell_type": "code",
   "execution_count": 77,
   "metadata": {},
   "outputs": [],
   "source": [
    "# split\n",
    "from sklearn.model_selection import train_test_split\n",
    "\n",
    "def split_data(features, labels):\n",
    "    features_train, features_test, labels_train, labels_test = train_test_split(features, labels, test_size=0.2, random_state=42) # split data into train and test data\n",
    "    features_train, features_val, labels_train, labels_val = train_test_split(features_train, labels_train, test_size=0.2, random_state=42) # split train data into train and validation data\n",
    "    return features_train, features_test, features_val, labels_train, labels_test, labels_val\n",
    "\n",
    "features_train, features_test, features_val, labels_train, labels_test, labels_val = split_data(features, labels)"
   ]
  },
  {
   "attachments": {},
   "cell_type": "markdown",
   "metadata": {},
   "source": [
    "Now let's train the model"
   ]
  },
  {
   "cell_type": "code",
   "execution_count": 79,
   "metadata": {},
   "outputs": [],
   "source": [
    "from sklearn.tree import DecisionTreeClassifier\n",
    "\n",
    "def train_model(features, labels):\n",
    "    \"\"\"Trains a model on the data\"\"\"\n",
    "\n",
    "    model = DecisionTreeClassifier(\n",
    "        criterion=\"entropy\", max_depth=3, random_state=42, min_samples_leaf=5\n",
    "    )\n",
    "    model.fit(features, labels)\n",
    "\n",
    "    return model\n",
    "\n",
    "model = train_model(features_train, labels_train)"
   ]
  },
  {
   "attachments": {},
   "cell_type": "markdown",
   "metadata": {},
   "source": [
    "Next, we need to evaluate the performance of the model"
   ]
  },
  {
   "cell_type": "code",
   "execution_count": 81,
   "metadata": {},
   "outputs": [
    {
     "name": "stdout",
     "output_type": "stream",
     "text": [
      "Accuracy: 0.955\n"
     ]
    }
   ],
   "source": [
    "# implement methods for the different parts of the pipeline, including hyperparameter tuning and evaluation\n",
    "\n",
    "from sklearn.metrics import accuracy_score\n",
    "\n",
    "def evaluate_model(model, X_test, y_test):\n",
    "    \"\"\"Evaluates the model on the test set\"\"\"\n",
    "\n",
    "    y_pred = model.predict(X_test)\n",
    "    accuracy = accuracy_score(y_test, y_pred)\n",
    "\n",
    "    return accuracy\n",
    "\n",
    "accuracy = evaluate_model(model, features_test, labels_test)\n",
    "\n",
    "print(f\"Accuracy: {accuracy}\")\n",
    "\n"
   ]
  },
  {
   "attachments": {},
   "cell_type": "markdown",
   "metadata": {},
   "source": [
    "Now create a function to save the model"
   ]
  },
  {
   "cell_type": "code",
   "execution_count": null,
   "metadata": {},
   "outputs": [],
   "source": [
    "# save model\n",
    "import joblib\n",
    "\n",
    "def save_model(model):\n",
    "    \"\"\"Saves the model to disk\"\"\"\n",
    "\n",
    "    joblib.dump(model, \"model.joblib\")\n",
    "\n",
    "save_model(model)"
   ]
  },
  {
   "attachments": {},
   "cell_type": "markdown",
   "metadata": {},
   "source": [
    "Putting that all together..."
   ]
  },
  {
   "cell_type": "code",
   "execution_count": null,
   "metadata": {},
   "outputs": [],
   "source": [
    "\n",
    "features, labels = load_data()\n",
    "train_features, validation_features, test_features, train_labels, validation_labels, test_labels = split_data(features, labels)\n",
    "model = train_model(train_features, train_labels)\n",
    "accuracy = evaluate_model(model, test_features, test_labels)\n",
    "print(f\"Accuracy: {accuracy}\")\n"
   ]
  },
  {
   "attachments": {},
   "cell_type": "markdown",
   "metadata": {},
   "source": [
    "### Pipelining the ML training process\n",
    "\n",
    "Imagine you're a data scientist who's developed a machine learning model. You've found out how to create a model that works by setting the right model configuration and processing the data correctly. However, you know that in the future your data is going to change, because you know that over time, the inputs will change with trends. That means you're going to train this model more than once, which is why it's useful to keep this code for re-use.\n",
    "\n",
    "Now, we can put that all into a function that trains the model from end to end."
   ]
  },
  {
   "cell_type": "code",
   "execution_count": null,
   "metadata": {},
   "outputs": [],
   "source": [
    "def train_and_evaluate_model(features, labels):\n",
    "    features, labels = load_data()\n",
    "    train_features, validation_features, test_features, train_labels, validation_labels, test_labels = split_data(features, labels)\n",
    "    model = train_model(train_features, train_labels)\n",
    "    accuracy = evaluate_model(model, test_features, test_labels)\n",
    "    print(f\"Accuracy: {accuracy}\")\n"
   ]
  },
  {
   "attachments": {},
   "cell_type": "markdown",
   "metadata": {},
   "source": [
    "## Drift - Is my problem changing over time?\n",
    "\n",
    "Run the cell below to define an object that simulates the data changing over time"
   ]
  },
  {
   "cell_type": "code",
   "execution_count": null,
   "metadata": {},
   "outputs": [],
   "source": [
    "\n",
    "import numpy as np\n",
    "import pandas as pd\n",
    "import time\n",
    "\n",
    "\n",
    "class DriftingDataset:\n",
    "    def __init__(\n",
    "        self,\n",
    "        mean=0,\n",
    "        std=1,\n",
    "        data_drift=\"linear\",\n",
    "        concept_drift=\"linear\",\n",
    "    ):\n",
    "        self.mean = mean\n",
    "        self.std = std\n",
    "        self.n_features = 2\n",
    "        self.mapping_weight = np.random.uniform()\n",
    "        self.mapping_bias = np.random.uniform()\n",
    "        # self.drift_pattern = \"linear\"\n",
    "        # self.drift_idx = 0\n",
    "\n",
    "    def mapping(self, x):\n",
    "        z = (x[0] - x[1]) #* self.mapping_weight #+ self.mapping_bias\n",
    "        ex = 0 if z < 0 else 1\n",
    "        return ex\n",
    "\n",
    "    def generate_datapoint(self):\n",
    "        x = np.random.normal(self.mean, self.std, self.n_features)\n",
    "        return x, self.mapping(x)\n",
    "\n",
    "    def increase_data_drift(self):\n",
    "        self.mean += np.random.normal(0, 0.1, self.n_features)\n",
    "        # self.std += 0.1\n",
    "        # self.drift_idx += 1\n",
    "\n",
    "    # def increase_concept_drift(self):\n",
    "    #     self.mapping_weights += 1\n",
    "    #     self.mapping_bias += 1\n",
    "    #     self.concept_drift_idx += 1\n",
    "\n",
    "    def __iter__(self):\n",
    "        def _():\n",
    "            while True:\n",
    "                yield self.generate_datapoint()\n",
    "                self.increase_data_drift()\n",
    "        return _()\n",
    "\n",
    "\n",
    "# if __name__ == \"__main__\":\n",
    "\n",
    "#     dataset = DriftingDataset()\n",
    "\n",
    "#     for example in dataset:\n",
    "#         print(example)\n",
    "#         time.sleep(1)\n"
   ]
  }
 ],
 "metadata": {
  "kernelspec": {
   "display_name": "Python 3",
   "language": "python",
   "name": "python3"
  },
  "language_info": {
   "codemirror_mode": {
    "name": "ipython",
    "version": 3
   },
   "file_extension": ".py",
   "mimetype": "text/x-python",
   "name": "python",
   "nbconvert_exporter": "python",
   "pygments_lexer": "ipython3",
   "version": "3.9.5"
  },
  "orig_nbformat": 4
 },
 "nbformat": 4,
 "nbformat_minor": 2
}
