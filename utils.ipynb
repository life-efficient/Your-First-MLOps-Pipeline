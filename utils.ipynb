{
 "cells": [
  {
   "cell_type": "code",
   "execution_count": 1,
   "metadata": {},
   "outputs": [],
   "source": [
    "\n",
    "import numpy as np\n",
    "import pandas as pd\n",
    "import time\n",
    "\n",
    "\n",
    "class DriftingDataset:\n",
    "    def __init__(\n",
    "        self,\n",
    "        mean=0,\n",
    "        std=1,\n",
    "        data_drift=\"linear\",\n",
    "        concept_drift=\"linear\",\n",
    "    ):\n",
    "        self.mean = mean\n",
    "        self.std = std\n",
    "        self.n_features = 2\n",
    "        self.mapping_weight = np.random.uniform()\n",
    "        self.mapping_bias = np.random.uniform()\n",
    "        # self.drift_pattern = \"linear\"\n",
    "        # self.drift_idx = 0\n",
    "\n",
    "    def mapping(self, x):\n",
    "        z = (x[0] - x[1]) #* self.mapping_weight #+ self.mapping_bias\n",
    "        ex = 0 if z < 0 else 1\n",
    "        return ex\n",
    "\n",
    "    def generate_datapoint(self):\n",
    "        x = np.random.normal(self.mean, self.std, self.n_features)\n",
    "        return x, self.mapping(x)\n",
    "\n",
    "    def increase_data_drift(self):\n",
    "        self.mean += np.random.normal(0, 0.1, self.n_features)\n",
    "        # self.std += 0.1\n",
    "        # self.drift_idx += 1\n",
    "\n",
    "    # def increase_concept_drift(self):\n",
    "    #     self.mapping_weights += 1\n",
    "    #     self.mapping_bias += 1\n",
    "    #     self.concept_drift_idx += 1\n",
    "\n",
    "    def __iter__(self):\n",
    "        def _():\n",
    "            while True:\n",
    "                yield self.generate_datapoint()\n",
    "                self.increase_data_drift()\n",
    "        return _()\n",
    "\n",
    "\n",
    "# if __name__ == \"__main__\":\n",
    "\n",
    "#     dataset = DriftingDataset()\n",
    "\n",
    "#     for example in dataset:\n",
    "#         print(example)\n",
    "#         time.sleep(1)\n"
   ]
  },
  {
   "cell_type": "code",
   "execution_count": 6,
   "metadata": {},
   "outputs": [
    {
     "data": {
      "image/png": "[encoded data removed]",
      "text/plain": [
       "<Figure size 432x288 with 1 Axes>"
      ]
     },
     "metadata": {
      "needs_background": "light"
     },
     "output_type": "display_data"
    }
   ],
   "source": [
    "from matplotlib import pyplot as plt\n",
    "from torch.utils.tensorboard import SummaryWriter\n",
    "\n",
    "\n",
    "def sample_and_save_data():\n",
    "    dataset = DriftingDataset(std=1)\n",
    "\n",
    "    save = []\n",
    "    datapoints = []\n",
    "    for idx, example in enumerate(dataset):\n",
    "        # turn example of (list, float) into a flat list\n",
    "        save.append(\n",
    "            {\"product_rating\": example[0][0], \"delivery_duration\": example[0][1], \"used_offer\": example[1]})\n",
    "\n",
    "        datapoints.append(example[0][0])\n",
    "        if idx == 10049:\n",
    "            break\n",
    "\n",
    "    df = pd.DataFrame(save[:971])\n",
    "    df.to_csv('data/initial_data.csv', index=False)\n",
    "\n",
    "    df = pd.DataFrame(save[971:])\n",
    "    df.to_csv('data/production_data.csv', index=False)\n",
    "    \n",
    "    return datapoints\n",
    "\n",
    "\n",
    "def plot_drifting_data(datapoints):\n",
    "    plt.plot(datapoints)\n",
    "    # save  the list called save as a csv file\n",
    "\n",
    "\n",
    "data = sample_and_save_data()\n",
    "plot_drifting_data(data)\n"
   ]
  },
  {
   "cell_type": "code",
   "execution_count": null,
   "metadata": {},
   "outputs": [],
   "source": []
  }
 ],
 "metadata": {
  "kernelspec": {
   "display_name": "base",
   "language": "python",
   "name": "python3"
  },
  "language_info": {
   "codemirror_mode": {
    "name": "ipython",
    "version": 3
   },
   "file_extension": ".py",
   "mimetype": "text/x-python",
   "name": "python",
   "nbconvert_exporter": "python",
   "pygments_lexer": "ipython3",
   "version": "3.9.5"
  },
  "orig_nbformat": 4
 },
 "nbformat": 4,
 "nbformat_minor": 2
}
