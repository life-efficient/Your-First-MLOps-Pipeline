{
 "cells": [
  {
   "cell_type": "code",
   "execution_count": null,
   "metadata": {},
   "outputs": [],
   "source": [
    "from matplotlib import pyplot as plt\n",
    "from torch.utils.tensorboard import SummaryWriter\n",
    "\n",
    "\n",
    "def sample_and_save_data():\n",
    "    dataset = DriftingDataset(std=1)\n",
    "\n",
    "    save = []\n",
    "    datapoints = []\n",
    "    for idx, example in enumerate(dataset):\n",
    "        # turn example of (list, float) into a flat list\n",
    "        save.append(\n",
    "            {\"product_rating\": example[0][0], \"delivery_duration\": example[0][1], \"used_offer\": example[1]})\n",
    "\n",
    "        datapoints.append(example[0][0])\n",
    "        if idx == 10000:\n",
    "            break\n",
    "\n",
    "    df = pd.DataFrame(save[:1000])\n",
    "\n",
    "    # df.to_csv('data.csv', index=False)\n",
    "\n",
    "    return datapoints\n",
    "\n",
    "\n",
    "def plot_drifting_data(datapoints):\n",
    "    plt.plot(datapoints)\n",
    "    # save  the list called save as a csv file\n",
    "\n",
    "\n",
    "data = sample_and_save_data()\n",
    "plot_drifting_data(data)\n"
   ]
  }
 ],
 "metadata": {
  "language_info": {
   "name": "python"
  },
  "orig_nbformat": 4
 },
 "nbformat": 4,
 "nbformat_minor": 2
}
